{
 "cells": [
  {
   "cell_type": "markdown",
   "id": "20b35803",
   "metadata": {
    "papermill": {
     "duration": 0.008594,
     "end_time": "2022-10-21T14:41:51.244981",
     "exception": false,
     "start_time": "2022-10-21T14:41:51.236387",
     "status": "completed"
    },
    "tags": []
   },
   "source": [
    "# Linear Regression "
   ]
  },
  {
   "cell_type": "code",
   "execution_count": 1,
   "id": "ed21c9a0",
   "metadata": {
    "execution": {
     "iopub.execute_input": "2022-10-21T14:41:51.262604Z",
     "iopub.status.busy": "2022-10-21T14:41:51.261606Z",
     "iopub.status.idle": "2022-10-21T14:41:51.288609Z",
     "shell.execute_reply": "2022-10-21T14:41:51.287720Z"
    },
    "papermill": {
     "duration": 0.038658,
     "end_time": "2022-10-21T14:41:51.291204",
     "exception": false,
     "start_time": "2022-10-21T14:41:51.252546",
     "status": "completed"
    },
    "tags": []
   },
   "outputs": [],
   "source": [
    "import pandas as pd\n",
    "iris=pd.read_csv('../input/iris-dataset-new/iris.csv')"
   ]
  },
  {
   "cell_type": "code",
   "execution_count": 2,
   "id": "eeff378d",
   "metadata": {
    "execution": {
     "iopub.execute_input": "2022-10-21T14:41:51.308220Z",
     "iopub.status.busy": "2022-10-21T14:41:51.307496Z",
     "iopub.status.idle": "2022-10-21T14:41:51.338734Z",
     "shell.execute_reply": "2022-10-21T14:41:51.337590Z"
    },
    "papermill": {
     "duration": 0.042845,
     "end_time": "2022-10-21T14:41:51.341570",
     "exception": false,
     "start_time": "2022-10-21T14:41:51.298725",
     "status": "completed"
    },
    "tags": []
   },
   "outputs": [
    {
     "data": {
      "text/html": [
       "<div>\n",
       "<style scoped>\n",
       "    .dataframe tbody tr th:only-of-type {\n",
       "        vertical-align: middle;\n",
       "    }\n",
       "\n",
       "    .dataframe tbody tr th {\n",
       "        vertical-align: top;\n",
       "    }\n",
       "\n",
       "    .dataframe thead th {\n",
       "        text-align: right;\n",
       "    }\n",
       "</style>\n",
       "<table border=\"1\" class=\"dataframe\">\n",
       "  <thead>\n",
       "    <tr style=\"text-align: right;\">\n",
       "      <th></th>\n",
       "      <th>Sales</th>\n",
       "      <th>Profit</th>\n",
       "      <th>Price</th>\n",
       "      <th>Month</th>\n",
       "      <th>Species</th>\n",
       "    </tr>\n",
       "  </thead>\n",
       "  <tbody>\n",
       "    <tr>\n",
       "      <th>0</th>\n",
       "      <td>19</td>\n",
       "      <td>40</td>\n",
       "      <td>194</td>\n",
       "      <td>January</td>\n",
       "      <td>Low</td>\n",
       "    </tr>\n",
       "    <tr>\n",
       "      <th>1</th>\n",
       "      <td>54</td>\n",
       "      <td>43</td>\n",
       "      <td>573</td>\n",
       "      <td>February</td>\n",
       "      <td>High</td>\n",
       "    </tr>\n",
       "    <tr>\n",
       "      <th>2</th>\n",
       "      <td>53</td>\n",
       "      <td>38</td>\n",
       "      <td>819</td>\n",
       "      <td>March</td>\n",
       "      <td>Medium</td>\n",
       "    </tr>\n",
       "    <tr>\n",
       "      <th>3</th>\n",
       "      <td>54</td>\n",
       "      <td>23</td>\n",
       "      <td>227</td>\n",
       "      <td>April</td>\n",
       "      <td>Low</td>\n",
       "    </tr>\n",
       "    <tr>\n",
       "      <th>4</th>\n",
       "      <td>81</td>\n",
       "      <td>20</td>\n",
       "      <td>650</td>\n",
       "      <td>May</td>\n",
       "      <td>High</td>\n",
       "    </tr>\n",
       "  </tbody>\n",
       "</table>\n",
       "</div>"
      ],
      "text/plain": [
       "   Sales  Profit  Price     Month Species\n",
       "0     19      40    194   January     Low\n",
       "1     54      43    573  February    High\n",
       "2     53      38    819     March  Medium\n",
       "3     54      23    227     April     Low\n",
       "4     81      20    650       May    High"
      ]
     },
     "execution_count": 2,
     "metadata": {},
     "output_type": "execute_result"
    }
   ],
   "source": [
    "iris.head()"
   ]
  },
  {
   "cell_type": "code",
   "execution_count": 3,
   "id": "f29e0f13",
   "metadata": {
    "execution": {
     "iopub.execute_input": "2022-10-21T14:41:51.358980Z",
     "iopub.status.busy": "2022-10-21T14:41:51.358256Z",
     "iopub.status.idle": "2022-10-21T14:41:51.375731Z",
     "shell.execute_reply": "2022-10-21T14:41:51.374592Z"
    },
    "papermill": {
     "duration": 0.028805,
     "end_time": "2022-10-21T14:41:51.378026",
     "exception": false,
     "start_time": "2022-10-21T14:41:51.349221",
     "status": "completed"
    },
    "tags": []
   },
   "outputs": [
    {
     "data": {
      "text/html": [
       "<div>\n",
       "<style scoped>\n",
       "    .dataframe tbody tr th:only-of-type {\n",
       "        vertical-align: middle;\n",
       "    }\n",
       "\n",
       "    .dataframe tbody tr th {\n",
       "        vertical-align: top;\n",
       "    }\n",
       "\n",
       "    .dataframe thead th {\n",
       "        text-align: right;\n",
       "    }\n",
       "</style>\n",
       "<table border=\"1\" class=\"dataframe\">\n",
       "  <thead>\n",
       "    <tr style=\"text-align: right;\">\n",
       "      <th></th>\n",
       "      <th>Sales</th>\n",
       "      <th>Profit</th>\n",
       "      <th>Price</th>\n",
       "      <th>Month</th>\n",
       "      <th>Species</th>\n",
       "    </tr>\n",
       "  </thead>\n",
       "  <tbody>\n",
       "    <tr>\n",
       "      <th>8</th>\n",
       "      <td>78</td>\n",
       "      <td>73</td>\n",
       "      <td>225</td>\n",
       "      <td>September</td>\n",
       "      <td>Low</td>\n",
       "    </tr>\n",
       "    <tr>\n",
       "      <th>10</th>\n",
       "      <td>20</td>\n",
       "      <td>83</td>\n",
       "      <td>615</td>\n",
       "      <td>November</td>\n",
       "      <td>Low</td>\n",
       "    </tr>\n",
       "    <tr>\n",
       "      <th>13</th>\n",
       "      <td>26</td>\n",
       "      <td>98</td>\n",
       "      <td>688</td>\n",
       "      <td>February</td>\n",
       "      <td>Low</td>\n",
       "    </tr>\n",
       "    <tr>\n",
       "      <th>17</th>\n",
       "      <td>93</td>\n",
       "      <td>94</td>\n",
       "      <td>525</td>\n",
       "      <td>June</td>\n",
       "      <td>Low</td>\n",
       "    </tr>\n",
       "  </tbody>\n",
       "</table>\n",
       "</div>"
      ],
      "text/plain": [
       "    Sales  Profit  Price      Month Species\n",
       "8      78      73    225  September     Low\n",
       "10     20      83    615   November     Low\n",
       "13     26      98    688   February     Low\n",
       "17     93      94    525       June     Low"
      ]
     },
     "execution_count": 3,
     "metadata": {},
     "output_type": "execute_result"
    }
   ],
   "source": [
    "iris[iris['Profit']>70]"
   ]
  },
  {
   "cell_type": "code",
   "execution_count": 4,
   "id": "e08edc29",
   "metadata": {
    "execution": {
     "iopub.execute_input": "2022-10-21T14:41:51.399761Z",
     "iopub.status.busy": "2022-10-21T14:41:51.398763Z",
     "iopub.status.idle": "2022-10-21T14:41:51.411462Z",
     "shell.execute_reply": "2022-10-21T14:41:51.410545Z"
    },
    "papermill": {
     "duration": 0.025042,
     "end_time": "2022-10-21T14:41:51.413669",
     "exception": false,
     "start_time": "2022-10-21T14:41:51.388627",
     "status": "completed"
    },
    "tags": []
   },
   "outputs": [
    {
     "data": {
      "text/html": [
       "<div>\n",
       "<style scoped>\n",
       "    .dataframe tbody tr th:only-of-type {\n",
       "        vertical-align: middle;\n",
       "    }\n",
       "\n",
       "    .dataframe tbody tr th {\n",
       "        vertical-align: top;\n",
       "    }\n",
       "\n",
       "    .dataframe thead th {\n",
       "        text-align: right;\n",
       "    }\n",
       "</style>\n",
       "<table border=\"1\" class=\"dataframe\">\n",
       "  <thead>\n",
       "    <tr style=\"text-align: right;\">\n",
       "      <th></th>\n",
       "      <th>Sales</th>\n",
       "      <th>Profit</th>\n",
       "      <th>Price</th>\n",
       "      <th>Month</th>\n",
       "      <th>Species</th>\n",
       "    </tr>\n",
       "  </thead>\n",
       "  <tbody>\n",
       "    <tr>\n",
       "      <th>1</th>\n",
       "      <td>54</td>\n",
       "      <td>43</td>\n",
       "      <td>573</td>\n",
       "      <td>February</td>\n",
       "      <td>High</td>\n",
       "    </tr>\n",
       "    <tr>\n",
       "      <th>2</th>\n",
       "      <td>53</td>\n",
       "      <td>38</td>\n",
       "      <td>819</td>\n",
       "      <td>March</td>\n",
       "      <td>Medium</td>\n",
       "    </tr>\n",
       "    <tr>\n",
       "      <th>4</th>\n",
       "      <td>81</td>\n",
       "      <td>20</td>\n",
       "      <td>650</td>\n",
       "      <td>May</td>\n",
       "      <td>High</td>\n",
       "    </tr>\n",
       "    <tr>\n",
       "      <th>7</th>\n",
       "      <td>90</td>\n",
       "      <td>45</td>\n",
       "      <td>619</td>\n",
       "      <td>August</td>\n",
       "      <td>Medium</td>\n",
       "    </tr>\n",
       "    <tr>\n",
       "      <th>10</th>\n",
       "      <td>20</td>\n",
       "      <td>83</td>\n",
       "      <td>615</td>\n",
       "      <td>November</td>\n",
       "      <td>Low</td>\n",
       "    </tr>\n",
       "    <tr>\n",
       "      <th>12</th>\n",
       "      <td>28</td>\n",
       "      <td>67</td>\n",
       "      <td>885</td>\n",
       "      <td>January</td>\n",
       "      <td>Medium</td>\n",
       "    </tr>\n",
       "    <tr>\n",
       "      <th>13</th>\n",
       "      <td>26</td>\n",
       "      <td>98</td>\n",
       "      <td>688</td>\n",
       "      <td>February</td>\n",
       "      <td>Low</td>\n",
       "    </tr>\n",
       "    <tr>\n",
       "      <th>14</th>\n",
       "      <td>83</td>\n",
       "      <td>42</td>\n",
       "      <td>988</td>\n",
       "      <td>March</td>\n",
       "      <td>Medium</td>\n",
       "    </tr>\n",
       "    <tr>\n",
       "      <th>16</th>\n",
       "      <td>15</td>\n",
       "      <td>62</td>\n",
       "      <td>942</td>\n",
       "      <td>May</td>\n",
       "      <td>High</td>\n",
       "    </tr>\n",
       "    <tr>\n",
       "      <th>17</th>\n",
       "      <td>93</td>\n",
       "      <td>94</td>\n",
       "      <td>525</td>\n",
       "      <td>June</td>\n",
       "      <td>Low</td>\n",
       "    </tr>\n",
       "  </tbody>\n",
       "</table>\n",
       "</div>"
      ],
      "text/plain": [
       "    Sales  Profit  Price     Month Species\n",
       "1      54      43    573  February    High\n",
       "2      53      38    819     March  Medium\n",
       "4      81      20    650       May    High\n",
       "7      90      45    619    August  Medium\n",
       "10     20      83    615  November     Low\n",
       "12     28      67    885   January  Medium\n",
       "13     26      98    688  February     Low\n",
       "14     83      42    988     March  Medium\n",
       "16     15      62    942       May    High\n",
       "17     93      94    525      June     Low"
      ]
     },
     "execution_count": 4,
     "metadata": {},
     "output_type": "execute_result"
    }
   ],
   "source": [
    "iris[iris['Price']>500]"
   ]
  },
  {
   "cell_type": "code",
   "execution_count": 5,
   "id": "30991144",
   "metadata": {
    "execution": {
     "iopub.execute_input": "2022-10-21T14:41:51.433330Z",
     "iopub.status.busy": "2022-10-21T14:41:51.432595Z",
     "iopub.status.idle": "2022-10-21T14:41:52.960588Z",
     "shell.execute_reply": "2022-10-21T14:41:52.959376Z"
    },
    "papermill": {
     "duration": 1.542077,
     "end_time": "2022-10-21T14:41:52.963670",
     "exception": false,
     "start_time": "2022-10-21T14:41:51.421593",
     "status": "completed"
    },
    "tags": []
   },
   "outputs": [
    {
     "data": {
      "image/png": "[encoded data removed]",
      "text/plain": [
       "<Figure size 432x288 with 1 Axes>"
      ]
     },
     "metadata": {
      "needs_background": "light"
     },
     "output_type": "display_data"
    }
   ],
   "source": [
    "from matplotlib import pyplot as plt\n",
    "import seaborn as sns\n",
    "\n",
    "sns.scatterplot(x='Sales',y='Profit',data=iris,hue='Species')\n",
    "plt.show()"
   ]
  },
  {
   "cell_type": "code",
   "execution_count": 6,
   "id": "1d3c9fbb",
   "metadata": {
    "execution": {
     "iopub.execute_input": "2022-10-21T14:41:52.992164Z",
     "iopub.status.busy": "2022-10-21T14:41:52.990967Z",
     "iopub.status.idle": "2022-10-21T14:41:53.003832Z",
     "shell.execute_reply": "2022-10-21T14:41:53.002463Z"
    },
    "papermill": {
     "duration": 0.029917,
     "end_time": "2022-10-21T14:41:53.006372",
     "exception": false,
     "start_time": "2022-10-21T14:41:52.976455",
     "status": "completed"
    },
    "tags": []
   },
   "outputs": [
    {
     "data": {
      "text/html": [
       "<div>\n",
       "<style scoped>\n",
       "    .dataframe tbody tr th:only-of-type {\n",
       "        vertical-align: middle;\n",
       "    }\n",
       "\n",
       "    .dataframe tbody tr th {\n",
       "        vertical-align: top;\n",
       "    }\n",
       "\n",
       "    .dataframe thead th {\n",
       "        text-align: right;\n",
       "    }\n",
       "</style>\n",
       "<table border=\"1\" class=\"dataframe\">\n",
       "  <thead>\n",
       "    <tr style=\"text-align: right;\">\n",
       "      <th></th>\n",
       "      <th>Sales</th>\n",
       "      <th>Profit</th>\n",
       "      <th>Price</th>\n",
       "      <th>Month</th>\n",
       "      <th>Species</th>\n",
       "    </tr>\n",
       "  </thead>\n",
       "  <tbody>\n",
       "    <tr>\n",
       "      <th>0</th>\n",
       "      <td>19</td>\n",
       "      <td>40</td>\n",
       "      <td>194</td>\n",
       "      <td>January</td>\n",
       "      <td>Low</td>\n",
       "    </tr>\n",
       "    <tr>\n",
       "      <th>1</th>\n",
       "      <td>54</td>\n",
       "      <td>43</td>\n",
       "      <td>573</td>\n",
       "      <td>February</td>\n",
       "      <td>High</td>\n",
       "    </tr>\n",
       "    <tr>\n",
       "      <th>2</th>\n",
       "      <td>53</td>\n",
       "      <td>38</td>\n",
       "      <td>819</td>\n",
       "      <td>March</td>\n",
       "      <td>Medium</td>\n",
       "    </tr>\n",
       "    <tr>\n",
       "      <th>3</th>\n",
       "      <td>54</td>\n",
       "      <td>23</td>\n",
       "      <td>227</td>\n",
       "      <td>April</td>\n",
       "      <td>Low</td>\n",
       "    </tr>\n",
       "    <tr>\n",
       "      <th>4</th>\n",
       "      <td>81</td>\n",
       "      <td>20</td>\n",
       "      <td>650</td>\n",
       "      <td>May</td>\n",
       "      <td>High</td>\n",
       "    </tr>\n",
       "  </tbody>\n",
       "</table>\n",
       "</div>"
      ],
      "text/plain": [
       "   Sales  Profit  Price     Month Species\n",
       "0     19      40    194   January     Low\n",
       "1     54      43    573  February    High\n",
       "2     53      38    819     March  Medium\n",
       "3     54      23    227     April     Low\n",
       "4     81      20    650       May    High"
      ]
     },
     "execution_count": 6,
     "metadata": {},
     "output_type": "execute_result"
    }
   ],
   "source": [
    "iris.head()"
   ]
  },
  {
   "cell_type": "code",
   "execution_count": 7,
   "id": "d67e781d",
   "metadata": {
    "execution": {
     "iopub.execute_input": "2022-10-21T14:41:53.025253Z",
     "iopub.status.busy": "2022-10-21T14:41:53.024799Z",
     "iopub.status.idle": "2022-10-21T14:41:53.030871Z",
     "shell.execute_reply": "2022-10-21T14:41:53.029570Z"
    },
    "papermill": {
     "duration": 0.018322,
     "end_time": "2022-10-21T14:41:53.033355",
     "exception": false,
     "start_time": "2022-10-21T14:41:53.015033",
     "status": "completed"
    },
    "tags": []
   },
   "outputs": [],
   "source": [
    "y = iris[['Sales']]"
   ]
  },
  {
   "cell_type": "code",
   "execution_count": 8,
   "id": "9307839d",
   "metadata": {
    "execution": {
     "iopub.execute_input": "2022-10-21T14:41:53.052066Z",
     "iopub.status.busy": "2022-10-21T14:41:53.051681Z",
     "iopub.status.idle": "2022-10-21T14:41:53.057055Z",
     "shell.execute_reply": "2022-10-21T14:41:53.056241Z"
    },
    "papermill": {
     "duration": 0.017278,
     "end_time": "2022-10-21T14:41:53.059234",
     "exception": false,
     "start_time": "2022-10-21T14:41:53.041956",
     "status": "completed"
    },
    "tags": []
   },
   "outputs": [],
   "source": [
    "x = iris[['Profit']]"
   ]
  },
  {
   "cell_type": "code",
   "execution_count": 9,
   "id": "5da47aa7",
   "metadata": {
    "execution": {
     "iopub.execute_input": "2022-10-21T14:41:53.078082Z",
     "iopub.status.busy": "2022-10-21T14:41:53.077714Z",
     "iopub.status.idle": "2022-10-21T14:41:53.289428Z",
     "shell.execute_reply": "2022-10-21T14:41:53.288213Z"
    },
    "papermill": {
     "duration": 0.224267,
     "end_time": "2022-10-21T14:41:53.292082",
     "exception": false,
     "start_time": "2022-10-21T14:41:53.067815",
     "status": "completed"
    },
    "tags": []
   },
   "outputs": [],
   "source": [
    "from sklearn.model_selection import train_test_split"
   ]
  },
  {
   "cell_type": "code",
   "execution_count": 10,
   "id": "ae40dc0b",
   "metadata": {
    "execution": {
     "iopub.execute_input": "2022-10-21T14:41:53.311572Z",
     "iopub.status.busy": "2022-10-21T14:41:53.311135Z",
     "iopub.status.idle": "2022-10-21T14:41:53.317564Z",
     "shell.execute_reply": "2022-10-21T14:41:53.316615Z"
    },
    "papermill": {
     "duration": 0.018845,
     "end_time": "2022-10-21T14:41:53.319717",
     "exception": false,
     "start_time": "2022-10-21T14:41:53.300872",
     "status": "completed"
    },
    "tags": []
   },
   "outputs": [],
   "source": [
    "x_train, x_test, y_train, y_test = train_test_split(x,y,test_size=0.3)"
   ]
  },
  {
   "cell_type": "code",
   "execution_count": 11,
   "id": "d018f5a8",
   "metadata": {
    "execution": {
     "iopub.execute_input": "2022-10-21T14:41:53.338467Z",
     "iopub.status.busy": "2022-10-21T14:41:53.338004Z",
     "iopub.status.idle": "2022-10-21T14:41:53.347832Z",
     "shell.execute_reply": "2022-10-21T14:41:53.346703Z"
    },
    "papermill": {
     "duration": 0.021682,
     "end_time": "2022-10-21T14:41:53.349972",
     "exception": false,
     "start_time": "2022-10-21T14:41:53.328290",
     "status": "completed"
    },
    "scrolled": true,
    "tags": []
   },
   "outputs": [
    {
     "data": {
      "text/html": [
       "<div>\n",
       "<style scoped>\n",
       "    .dataframe tbody tr th:only-of-type {\n",
       "        vertical-align: middle;\n",
       "    }\n",
       "\n",
       "    .dataframe tbody tr th {\n",
       "        vertical-align: top;\n",
       "    }\n",
       "\n",
       "    .dataframe thead th {\n",
       "        text-align: right;\n",
       "    }\n",
       "</style>\n",
       "<table border=\"1\" class=\"dataframe\">\n",
       "  <thead>\n",
       "    <tr style=\"text-align: right;\">\n",
       "      <th></th>\n",
       "      <th>Profit</th>\n",
       "    </tr>\n",
       "  </thead>\n",
       "  <tbody>\n",
       "    <tr>\n",
       "      <th>3</th>\n",
       "      <td>23</td>\n",
       "    </tr>\n",
       "    <tr>\n",
       "      <th>4</th>\n",
       "      <td>20</td>\n",
       "    </tr>\n",
       "    <tr>\n",
       "      <th>7</th>\n",
       "      <td>45</td>\n",
       "    </tr>\n",
       "    <tr>\n",
       "      <th>9</th>\n",
       "      <td>69</td>\n",
       "    </tr>\n",
       "    <tr>\n",
       "      <th>6</th>\n",
       "      <td>45</td>\n",
       "    </tr>\n",
       "  </tbody>\n",
       "</table>\n",
       "</div>"
      ],
      "text/plain": [
       "   Profit\n",
       "3      23\n",
       "4      20\n",
       "7      45\n",
       "9      69\n",
       "6      45"
      ]
     },
     "execution_count": 11,
     "metadata": {},
     "output_type": "execute_result"
    }
   ],
   "source": [
    "x_train.head()"
   ]
  },
  {
   "cell_type": "code",
   "execution_count": 12,
   "id": "0646dfd1",
   "metadata": {
    "execution": {
     "iopub.execute_input": "2022-10-21T14:41:53.369058Z",
     "iopub.status.busy": "2022-10-21T14:41:53.368695Z",
     "iopub.status.idle": "2022-10-21T14:41:53.377870Z",
     "shell.execute_reply": "2022-10-21T14:41:53.376828Z"
    },
    "papermill": {
     "duration": 0.021342,
     "end_time": "2022-10-21T14:41:53.380110",
     "exception": false,
     "start_time": "2022-10-21T14:41:53.358768",
     "status": "completed"
    },
    "tags": []
   },
   "outputs": [
    {
     "data": {
      "text/html": [
       "<div>\n",
       "<style scoped>\n",
       "    .dataframe tbody tr th:only-of-type {\n",
       "        vertical-align: middle;\n",
       "    }\n",
       "\n",
       "    .dataframe tbody tr th {\n",
       "        vertical-align: top;\n",
       "    }\n",
       "\n",
       "    .dataframe thead th {\n",
       "        text-align: right;\n",
       "    }\n",
       "</style>\n",
       "<table border=\"1\" class=\"dataframe\">\n",
       "  <thead>\n",
       "    <tr style=\"text-align: right;\">\n",
       "      <th></th>\n",
       "      <th>Profit</th>\n",
       "    </tr>\n",
       "  </thead>\n",
       "  <tbody>\n",
       "    <tr>\n",
       "      <th>12</th>\n",
       "      <td>67</td>\n",
       "    </tr>\n",
       "    <tr>\n",
       "      <th>0</th>\n",
       "      <td>40</td>\n",
       "    </tr>\n",
       "    <tr>\n",
       "      <th>17</th>\n",
       "      <td>94</td>\n",
       "    </tr>\n",
       "    <tr>\n",
       "      <th>15</th>\n",
       "      <td>19</td>\n",
       "    </tr>\n",
       "    <tr>\n",
       "      <th>11</th>\n",
       "      <td>65</td>\n",
       "    </tr>\n",
       "  </tbody>\n",
       "</table>\n",
       "</div>"
      ],
      "text/plain": [
       "    Profit\n",
       "12      67\n",
       "0       40\n",
       "17      94\n",
       "15      19\n",
       "11      65"
      ]
     },
     "execution_count": 12,
     "metadata": {},
     "output_type": "execute_result"
    }
   ],
   "source": [
    "x_test.head()"
   ]
  },
  {
   "cell_type": "code",
   "execution_count": 13,
   "id": "2e94235c",
   "metadata": {
    "execution": {
     "iopub.execute_input": "2022-10-21T14:41:53.399741Z",
     "iopub.status.busy": "2022-10-21T14:41:53.399308Z",
     "iopub.status.idle": "2022-10-21T14:41:53.408481Z",
     "shell.execute_reply": "2022-10-21T14:41:53.407454Z"
    },
    "papermill": {
     "duration": 0.021701,
     "end_time": "2022-10-21T14:41:53.410638",
     "exception": false,
     "start_time": "2022-10-21T14:41:53.388937",
     "status": "completed"
    },
    "tags": []
   },
   "outputs": [
    {
     "data": {
      "text/html": [
       "<div>\n",
       "<style scoped>\n",
       "    .dataframe tbody tr th:only-of-type {\n",
       "        vertical-align: middle;\n",
       "    }\n",
       "\n",
       "    .dataframe tbody tr th {\n",
       "        vertical-align: top;\n",
       "    }\n",
       "\n",
       "    .dataframe thead th {\n",
       "        text-align: right;\n",
       "    }\n",
       "</style>\n",
       "<table border=\"1\" class=\"dataframe\">\n",
       "  <thead>\n",
       "    <tr style=\"text-align: right;\">\n",
       "      <th></th>\n",
       "      <th>Sales</th>\n",
       "    </tr>\n",
       "  </thead>\n",
       "  <tbody>\n",
       "    <tr>\n",
       "      <th>3</th>\n",
       "      <td>54</td>\n",
       "    </tr>\n",
       "    <tr>\n",
       "      <th>4</th>\n",
       "      <td>81</td>\n",
       "    </tr>\n",
       "    <tr>\n",
       "      <th>7</th>\n",
       "      <td>90</td>\n",
       "    </tr>\n",
       "    <tr>\n",
       "      <th>9</th>\n",
       "      <td>22</td>\n",
       "    </tr>\n",
       "    <tr>\n",
       "      <th>6</th>\n",
       "      <td>95</td>\n",
       "    </tr>\n",
       "  </tbody>\n",
       "</table>\n",
       "</div>"
      ],
      "text/plain": [
       "   Sales\n",
       "3     54\n",
       "4     81\n",
       "7     90\n",
       "9     22\n",
       "6     95"
      ]
     },
     "execution_count": 13,
     "metadata": {},
     "output_type": "execute_result"
    }
   ],
   "source": [
    "y_train.head()"
   ]
  },
  {
   "cell_type": "code",
   "execution_count": 14,
   "id": "d1334129",
   "metadata": {
    "execution": {
     "iopub.execute_input": "2022-10-21T14:41:53.430189Z",
     "iopub.status.busy": "2022-10-21T14:41:53.429747Z",
     "iopub.status.idle": "2022-10-21T14:41:53.439439Z",
     "shell.execute_reply": "2022-10-21T14:41:53.438367Z"
    },
    "papermill": {
     "duration": 0.022116,
     "end_time": "2022-10-21T14:41:53.441634",
     "exception": false,
     "start_time": "2022-10-21T14:41:53.419518",
     "status": "completed"
    },
    "scrolled": true,
    "tags": []
   },
   "outputs": [
    {
     "data": {
      "text/html": [
       "<div>\n",
       "<style scoped>\n",
       "    .dataframe tbody tr th:only-of-type {\n",
       "        vertical-align: middle;\n",
       "    }\n",
       "\n",
       "    .dataframe tbody tr th {\n",
       "        vertical-align: top;\n",
       "    }\n",
       "\n",
       "    .dataframe thead th {\n",
       "        text-align: right;\n",
       "    }\n",
       "</style>\n",
       "<table border=\"1\" class=\"dataframe\">\n",
       "  <thead>\n",
       "    <tr style=\"text-align: right;\">\n",
       "      <th></th>\n",
       "      <th>Sales</th>\n",
       "    </tr>\n",
       "  </thead>\n",
       "  <tbody>\n",
       "    <tr>\n",
       "      <th>12</th>\n",
       "      <td>28</td>\n",
       "    </tr>\n",
       "    <tr>\n",
       "      <th>0</th>\n",
       "      <td>19</td>\n",
       "    </tr>\n",
       "    <tr>\n",
       "      <th>17</th>\n",
       "      <td>93</td>\n",
       "    </tr>\n",
       "    <tr>\n",
       "      <th>15</th>\n",
       "      <td>85</td>\n",
       "    </tr>\n",
       "    <tr>\n",
       "      <th>11</th>\n",
       "      <td>73</td>\n",
       "    </tr>\n",
       "  </tbody>\n",
       "</table>\n",
       "</div>"
      ],
      "text/plain": [
       "    Sales\n",
       "12     28\n",
       "0      19\n",
       "17     93\n",
       "15     85\n",
       "11     73"
      ]
     },
     "execution_count": 14,
     "metadata": {},
     "output_type": "execute_result"
    }
   ],
   "source": [
    "y_test.head()"
   ]
  },
  {
   "cell_type": "code",
   "execution_count": 15,
   "id": "6ab3597e",
   "metadata": {
    "execution": {
     "iopub.execute_input": "2022-10-21T14:41:53.461602Z",
     "iopub.status.busy": "2022-10-21T14:41:53.461201Z",
     "iopub.status.idle": "2022-10-21T14:41:53.541236Z",
     "shell.execute_reply": "2022-10-21T14:41:53.540355Z"
    },
    "papermill": {
     "duration": 0.092829,
     "end_time": "2022-10-21T14:41:53.543680",
     "exception": false,
     "start_time": "2022-10-21T14:41:53.450851",
     "status": "completed"
    },
    "tags": []
   },
   "outputs": [],
   "source": [
    "from sklearn.linear_model import LinearRegression"
   ]
  },
  {
   "cell_type": "code",
   "execution_count": 16,
   "id": "94ae0420",
   "metadata": {
    "execution": {
     "iopub.execute_input": "2022-10-21T14:41:53.564247Z",
     "iopub.status.busy": "2022-10-21T14:41:53.563501Z",
     "iopub.status.idle": "2022-10-21T14:41:53.568622Z",
     "shell.execute_reply": "2022-10-21T14:41:53.567523Z"
    },
    "papermill": {
     "duration": 0.017971,
     "end_time": "2022-10-21T14:41:53.571048",
     "exception": false,
     "start_time": "2022-10-21T14:41:53.553077",
     "status": "completed"
    },
    "tags": []
   },
   "outputs": [],
   "source": [
    "lr = LinearRegression()"
   ]
  },
  {
   "cell_type": "code",
   "execution_count": 17,
   "id": "1baa2782",
   "metadata": {
    "execution": {
     "iopub.execute_input": "2022-10-21T14:41:53.591201Z",
     "iopub.status.busy": "2022-10-21T14:41:53.590761Z",
     "iopub.status.idle": "2022-10-21T14:41:53.617661Z",
     "shell.execute_reply": "2022-10-21T14:41:53.616514Z"
    },
    "papermill": {
     "duration": 0.039776,
     "end_time": "2022-10-21T14:41:53.620141",
     "exception": false,
     "start_time": "2022-10-21T14:41:53.580365",
     "status": "completed"
    },
    "tags": []
   },
   "outputs": [
    {
     "data": {
      "text/plain": [
       "LinearRegression()"
      ]
     },
     "execution_count": 17,
     "metadata": {},
     "output_type": "execute_result"
    }
   ],
   "source": [
    "lr.fit(x_train,y_train)"
   ]
  },
  {
   "cell_type": "code",
   "execution_count": 18,
   "id": "1a81ac55",
   "metadata": {
    "execution": {
     "iopub.execute_input": "2022-10-21T14:41:53.641000Z",
     "iopub.status.busy": "2022-10-21T14:41:53.640601Z",
     "iopub.status.idle": "2022-10-21T14:41:53.647329Z",
     "shell.execute_reply": "2022-10-21T14:41:53.646193Z"
    },
    "papermill": {
     "duration": 0.019649,
     "end_time": "2022-10-21T14:41:53.649523",
     "exception": false,
     "start_time": "2022-10-21T14:41:53.629874",
     "status": "completed"
    },
    "tags": []
   },
   "outputs": [],
   "source": [
    "y_pred = lr.predict(x_test)"
   ]
  },
  {
   "cell_type": "code",
   "execution_count": 19,
   "id": "a1834ce6",
   "metadata": {
    "execution": {
     "iopub.execute_input": "2022-10-21T14:41:53.670265Z",
     "iopub.status.busy": "2022-10-21T14:41:53.669818Z",
     "iopub.status.idle": "2022-10-21T14:41:53.679028Z",
     "shell.execute_reply": "2022-10-21T14:41:53.678126Z"
    },
    "papermill": {
     "duration": 0.022061,
     "end_time": "2022-10-21T14:41:53.681005",
     "exception": false,
     "start_time": "2022-10-21T14:41:53.658944",
     "status": "completed"
    },
    "tags": []
   },
   "outputs": [
    {
     "data": {
      "text/html": [
       "<div>\n",
       "<style scoped>\n",
       "    .dataframe tbody tr th:only-of-type {\n",
       "        vertical-align: middle;\n",
       "    }\n",
       "\n",
       "    .dataframe tbody tr th {\n",
       "        vertical-align: top;\n",
       "    }\n",
       "\n",
       "    .dataframe thead th {\n",
       "        text-align: right;\n",
       "    }\n",
       "</style>\n",
       "<table border=\"1\" class=\"dataframe\">\n",
       "  <thead>\n",
       "    <tr style=\"text-align: right;\">\n",
       "      <th></th>\n",
       "      <th>Sales</th>\n",
       "    </tr>\n",
       "  </thead>\n",
       "  <tbody>\n",
       "    <tr>\n",
       "      <th>12</th>\n",
       "      <td>28</td>\n",
       "    </tr>\n",
       "    <tr>\n",
       "      <th>0</th>\n",
       "      <td>19</td>\n",
       "    </tr>\n",
       "    <tr>\n",
       "      <th>17</th>\n",
       "      <td>93</td>\n",
       "    </tr>\n",
       "    <tr>\n",
       "      <th>15</th>\n",
       "      <td>85</td>\n",
       "    </tr>\n",
       "    <tr>\n",
       "      <th>11</th>\n",
       "      <td>73</td>\n",
       "    </tr>\n",
       "  </tbody>\n",
       "</table>\n",
       "</div>"
      ],
      "text/plain": [
       "    Sales\n",
       "12     28\n",
       "0      19\n",
       "17     93\n",
       "15     85\n",
       "11     73"
      ]
     },
     "execution_count": 19,
     "metadata": {},
     "output_type": "execute_result"
    }
   ],
   "source": [
    "y_test.head()"
   ]
  },
  {
   "cell_type": "code",
   "execution_count": 20,
   "id": "1426a1b1",
   "metadata": {
    "execution": {
     "iopub.execute_input": "2022-10-21T14:41:53.701672Z",
     "iopub.status.busy": "2022-10-21T14:41:53.701308Z",
     "iopub.status.idle": "2022-10-21T14:41:53.707017Z",
     "shell.execute_reply": "2022-10-21T14:41:53.706198Z"
    },
    "papermill": {
     "duration": 0.018489,
     "end_time": "2022-10-21T14:41:53.708991",
     "exception": false,
     "start_time": "2022-10-21T14:41:53.690502",
     "status": "completed"
    },
    "tags": []
   },
   "outputs": [
    {
     "data": {
      "text/plain": [
       "array([[45.55655749],\n",
       "       [62.98764367],\n",
       "       [28.12547131],\n",
       "       [76.54515514],\n",
       "       [46.84774906]])"
      ]
     },
     "execution_count": 20,
     "metadata": {},
     "output_type": "execute_result"
    }
   ],
   "source": [
    "y_pred[0:5]"
   ]
  },
  {
   "cell_type": "code",
   "execution_count": 21,
   "id": "583e7ef9",
   "metadata": {
    "execution": {
     "iopub.execute_input": "2022-10-21T14:41:53.730134Z",
     "iopub.status.busy": "2022-10-21T14:41:53.729500Z",
     "iopub.status.idle": "2022-10-21T14:41:53.733849Z",
     "shell.execute_reply": "2022-10-21T14:41:53.732709Z"
    },
    "papermill": {
     "duration": 0.017632,
     "end_time": "2022-10-21T14:41:53.736216",
     "exception": false,
     "start_time": "2022-10-21T14:41:53.718584",
     "status": "completed"
    },
    "tags": []
   },
   "outputs": [],
   "source": [
    "from sklearn.metrics import mean_squared_error"
   ]
  },
  {
   "cell_type": "code",
   "execution_count": 22,
   "id": "99f82180",
   "metadata": {
    "execution": {
     "iopub.execute_input": "2022-10-21T14:41:53.757966Z",
     "iopub.status.busy": "2022-10-21T14:41:53.757063Z",
     "iopub.status.idle": "2022-10-21T14:41:53.766487Z",
     "shell.execute_reply": "2022-10-21T14:41:53.765401Z"
    },
    "papermill": {
     "duration": 0.022837,
     "end_time": "2022-10-21T14:41:53.768626",
     "exception": false,
     "start_time": "2022-10-21T14:41:53.745789",
     "status": "completed"
    },
    "tags": []
   },
   "outputs": [
    {
     "data": {
      "text/plain": [
       "1203.489532037762"
      ]
     },
     "execution_count": 22,
     "metadata": {},
     "output_type": "execute_result"
    }
   ],
   "source": [
    "mean_squared_error(y_test, y_pred)"
   ]
  },
  {
   "cell_type": "code",
   "execution_count": 23,
   "id": "213c679b",
   "metadata": {
    "execution": {
     "iopub.execute_input": "2022-10-21T14:41:53.789710Z",
     "iopub.status.busy": "2022-10-21T14:41:53.789273Z",
     "iopub.status.idle": "2022-10-21T14:41:53.794388Z",
     "shell.execute_reply": "2022-10-21T14:41:53.793016Z"
    },
    "papermill": {
     "duration": 0.018266,
     "end_time": "2022-10-21T14:41:53.796687",
     "exception": false,
     "start_time": "2022-10-21T14:41:53.778421",
     "status": "completed"
    },
    "tags": []
   },
   "outputs": [],
   "source": [
    "# Module 2"
   ]
  },
  {
   "cell_type": "code",
   "execution_count": 24,
   "id": "1f6d7e5d",
   "metadata": {
    "execution": {
     "iopub.execute_input": "2022-10-21T14:41:53.817948Z",
     "iopub.status.busy": "2022-10-21T14:41:53.817542Z",
     "iopub.status.idle": "2022-10-21T14:41:53.823279Z",
     "shell.execute_reply": "2022-10-21T14:41:53.822192Z"
    },
    "papermill": {
     "duration": 0.019124,
     "end_time": "2022-10-21T14:41:53.825597",
     "exception": false,
     "start_time": "2022-10-21T14:41:53.806473",
     "status": "completed"
    },
    "tags": []
   },
   "outputs": [],
   "source": [
    "y = iris[['Sales']]"
   ]
  },
  {
   "cell_type": "code",
   "execution_count": 25,
   "id": "7f32f3b6",
   "metadata": {
    "execution": {
     "iopub.execute_input": "2022-10-21T14:41:53.847010Z",
     "iopub.status.busy": "2022-10-21T14:41:53.846437Z",
     "iopub.status.idle": "2022-10-21T14:41:53.852855Z",
     "shell.execute_reply": "2022-10-21T14:41:53.851715Z"
    },
    "papermill": {
     "duration": 0.020045,
     "end_time": "2022-10-21T14:41:53.855215",
     "exception": false,
     "start_time": "2022-10-21T14:41:53.835170",
     "status": "completed"
    },
    "tags": []
   },
   "outputs": [],
   "source": [
    "x = iris[['Profit','Price']]"
   ]
  },
  {
   "cell_type": "code",
   "execution_count": 26,
   "id": "f169a969",
   "metadata": {
    "execution": {
     "iopub.execute_input": "2022-10-21T14:41:53.876548Z",
     "iopub.status.busy": "2022-10-21T14:41:53.876110Z",
     "iopub.status.idle": "2022-10-21T14:41:53.881920Z",
     "shell.execute_reply": "2022-10-21T14:41:53.881153Z"
    },
    "papermill": {
     "duration": 0.019222,
     "end_time": "2022-10-21T14:41:53.884108",
     "exception": false,
     "start_time": "2022-10-21T14:41:53.864886",
     "status": "completed"
    },
    "tags": []
   },
   "outputs": [],
   "source": [
    "x_train, x_test, y_train, y_test = train_test_split(x,y,test_size=0.3)"
   ]
  },
  {
   "cell_type": "code",
   "execution_count": 27,
   "id": "cf84ea3f",
   "metadata": {
    "execution": {
     "iopub.execute_input": "2022-10-21T14:41:53.905580Z",
     "iopub.status.busy": "2022-10-21T14:41:53.905134Z",
     "iopub.status.idle": "2022-10-21T14:41:53.910212Z",
     "shell.execute_reply": "2022-10-21T14:41:53.909155Z"
    },
    "papermill": {
     "duration": 0.018303,
     "end_time": "2022-10-21T14:41:53.912345",
     "exception": false,
     "start_time": "2022-10-21T14:41:53.894042",
     "status": "completed"
    },
    "tags": []
   },
   "outputs": [],
   "source": [
    "lr2 = LinearRegression()"
   ]
  },
  {
   "cell_type": "code",
   "execution_count": 28,
   "id": "2bf96b1d",
   "metadata": {
    "execution": {
     "iopub.execute_input": "2022-10-21T14:41:53.933088Z",
     "iopub.status.busy": "2022-10-21T14:41:53.932670Z",
     "iopub.status.idle": "2022-10-21T14:41:53.947495Z",
     "shell.execute_reply": "2022-10-21T14:41:53.946182Z"
    },
    "papermill": {
     "duration": 0.028007,
     "end_time": "2022-10-21T14:41:53.949844",
     "exception": false,
     "start_time": "2022-10-21T14:41:53.921837",
     "status": "completed"
    },
    "tags": []
   },
   "outputs": [
    {
     "data": {
      "text/plain": [
       "LinearRegression()"
      ]
     },
     "execution_count": 28,
     "metadata": {},
     "output_type": "execute_result"
    }
   ],
   "source": [
    "lr2.fit(x_train,y_train)"
   ]
  },
  {
   "cell_type": "code",
   "execution_count": 29,
   "id": "b26b4712",
   "metadata": {
    "execution": {
     "iopub.execute_input": "2022-10-21T14:41:53.970916Z",
     "iopub.status.busy": "2022-10-21T14:41:53.970465Z",
     "iopub.status.idle": "2022-10-21T14:41:53.977504Z",
     "shell.execute_reply": "2022-10-21T14:41:53.976511Z"
    },
    "papermill": {
     "duration": 0.020158,
     "end_time": "2022-10-21T14:41:53.979708",
     "exception": false,
     "start_time": "2022-10-21T14:41:53.959550",
     "status": "completed"
    },
    "tags": []
   },
   "outputs": [],
   "source": [
    "y_pred = lr2.predict(x_test)"
   ]
  },
  {
   "cell_type": "code",
   "execution_count": 30,
   "id": "9333f7b0",
   "metadata": {
    "execution": {
     "iopub.execute_input": "2022-10-21T14:41:54.001538Z",
     "iopub.status.busy": "2022-10-21T14:41:54.001144Z",
     "iopub.status.idle": "2022-10-21T14:41:54.008905Z",
     "shell.execute_reply": "2022-10-21T14:41:54.008089Z"
    },
    "papermill": {
     "duration": 0.020974,
     "end_time": "2022-10-21T14:41:54.011027",
     "exception": false,
     "start_time": "2022-10-21T14:41:53.990053",
     "status": "completed"
    },
    "tags": []
   },
   "outputs": [
    {
     "data": {
      "text/plain": [
       "1420.8036088226197"
      ]
     },
     "execution_count": 30,
     "metadata": {},
     "output_type": "execute_result"
    }
   ],
   "source": [
    "mean_squared_error(y_test,y_pred)"
   ]
  }
 ],
 "metadata": {
  "kernelspec": {
   "display_name": "Python 3",
   "language": "python",
   "name": "python3"
  },
  "language_info": {
   "codemirror_mode": {
    "name": "ipython",
    "version": 3
   },
   "file_extension": ".py",
   "mimetype": "text/x-python",
   "name": "python",
   "nbconvert_exporter": "python",
   "pygments_lexer": "ipython3",
   "version": "3.7.12"
  },
  "papermill": {
   "default_parameters": {},
   "duration": 12.535045,
   "end_time": "2022-10-21T14:41:54.843224",
   "environment_variables": {},
   "exception": null,
   "input_path": "__notebook__.ipynb",
   "output_path": "__notebook__.ipynb",
   "parameters": {},
   "start_time": "2022-10-21T14:41:42.308179",
   "version": "2.3.4"
  }
 },
 "nbformat": 4,
 "nbformat_minor": 5
}
